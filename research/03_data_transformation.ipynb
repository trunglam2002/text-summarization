{
 "cells": [
  {
   "cell_type": "code",
   "execution_count": 1,
   "metadata": {},
   "outputs": [
    {
     "data": {
      "text/plain": [
       "'c:\\\\Users\\\\NgLaam\\\\Desktop\\\\chatbot\\\\text-summarization'"
      ]
     },
     "execution_count": 1,
     "metadata": {},
     "output_type": "execute_result"
    }
   ],
   "source": [
    "import os\n",
    "\n",
    "os.chdir(\"../\")\n",
    "\n",
    "%pwd"
   ]
  },
  {
   "cell_type": "code",
   "execution_count": 2,
   "metadata": {},
   "outputs": [],
   "source": [
    "# # if you encounter error \"You need to have sentencepiece installed to convert a slow tokenizer to a fast one\"\n",
    "# ! pip install transformers[sentencepiece] \n",
    "# # and restart the kernel"
   ]
  },
  {
   "cell_type": "code",
   "execution_count": 3,
   "metadata": {},
   "outputs": [],
   "source": [
    "from dataclasses import dataclass\n",
    "from pathlib import Path\n",
    "\n",
    "\n",
    "@dataclass(frozen=True)\n",
    "class DataTransformationConfig:\n",
    "    root_dir: Path\n",
    "    data_path: Path\n",
    "    tokenizer_name: Path"
   ]
  },
  {
   "cell_type": "code",
   "execution_count": 4,
   "metadata": {},
   "outputs": [],
   "source": [
    "from text_summarizer.constants import *\n",
    "from text_summarizer.utils.common import read_yaml, create_directories"
   ]
  },
  {
   "cell_type": "code",
   "execution_count": 5,
   "metadata": {},
   "outputs": [],
   "source": [
    "class ConfigurationManager:\n",
    "    def __init__(\n",
    "        self,\n",
    "        config_filepath = CONFIG_FILE_PATH,\n",
    "        params_filepath = PARAMS_FILE_PATH):\n",
    "\n",
    "        self.config = read_yaml(config_filepath)\n",
    "        self.params = read_yaml(params_filepath)\n",
    "\n",
    "        create_directories([self.config.artifacts_root])\n",
    "\n",
    "\n",
    "    \n",
    "    def get_data_transformation_config(self) -> DataTransformationConfig:\n",
    "        config = self.config.data_transformation\n",
    "\n",
    "        create_directories([config.root_dir])\n",
    "\n",
    "        data_transformation_config = DataTransformationConfig(\n",
    "            root_dir=config.root_dir,\n",
    "            data_path=config.data_path,\n",
    "            tokenizer_name = config.tokenizer_name\n",
    "        )\n",
    "\n",
    "        return data_transformation_config"
   ]
  },
  {
   "cell_type": "code",
   "execution_count": 6,
   "metadata": {},
   "outputs": [
    {
     "name": "stderr",
     "output_type": "stream",
     "text": [
      "c:\\Users\\NgLaam\\Desktop\\chatbot\\text-summarization\\.venv\\lib\\site-packages\\tqdm\\auto.py:21: TqdmWarning: IProgress not found. Please update jupyter and ipywidgets. See https://ipywidgets.readthedocs.io/en/stable/user_install.html\n",
      "  from .autonotebook import tqdm as notebook_tqdm\n"
     ]
    },
    {
     "name": "stdout",
     "output_type": "stream",
     "text": [
      "[2024-05-11 08:12:33,684: INFO: config: PyTorch version 2.3.0 available.]\n"
     ]
    }
   ],
   "source": [
    "import pandas as pd\n",
    "import os\n",
    "from text_summarizer.logging import logger\n",
    "from transformers import AutoTokenizer\n",
    "from datasets import DatasetDict, Dataset"
   ]
  },
  {
   "cell_type": "code",
   "execution_count": 7,
   "metadata": {},
   "outputs": [],
   "source": [
    "class DataTransformation:\n",
    "    def __init__(self, config: DataTransformationConfig):\n",
    "        self.config = config\n",
    "        self.tokenizer = AutoTokenizer.from_pretrained(config.tokenizer_name)\n",
    "\n",
    "\n",
    "    \n",
    "    def convert_examples_to_features(self,example_batch):\n",
    "        input_encodings = self.tokenizer(example_batch['dialogue'] , max_length = 1024, truncation = True )\n",
    "        \n",
    "        with self.tokenizer.as_target_tokenizer():\n",
    "            target_encodings = self.tokenizer(example_batch['summary'], max_length = 128, truncation = True )\n",
    "            \n",
    "        return {\n",
    "            'input_ids' : input_encodings['input_ids'],\n",
    "            'attention_mask': input_encodings['attention_mask'],\n",
    "            'labels': target_encodings['input_ids']\n",
    "        }\n",
    "    \n",
    "    def split_dataset(self, df):\n",
    "        # Chuyển đổi dữ liệu thành định dạng Dataset\n",
    "        dataset_dict = DatasetDict()\n",
    "\n",
    "        # Tách dữ liệu thành tập huấn luyện, tập kiểm tra và tập validation\n",
    "        train_df = df.sample(frac=0.8, random_state=42)\n",
    "        val_test_df = df.drop(train_df.index)\n",
    "        val_df = val_test_df.sample(frac=0.5, random_state=42)\n",
    "        test_df = val_test_df.drop(val_df.index)\n",
    "\n",
    "        # Tạo Dataset cho mỗi tập\n",
    "        train_dataset = Dataset.from_pandas(train_df.rename(columns={\"Unnamed: 0\": \"id\"}))\n",
    "        val_dataset = Dataset.from_pandas(val_df.rename(columns={\"Unnamed: 0\": \"id\"}))\n",
    "        test_dataset = Dataset.from_pandas(test_df.rename(columns={\"Unnamed: 0\": \"id\"}))\n",
    "\n",
    "        # Gán features\n",
    "        train_dataset = train_dataset.map(lambda example: {'id': example['id'], 'dialogue': example['Document'], 'summary': example['Summary']})\n",
    "        val_dataset = val_dataset.map(lambda example: {'id': example['id'], 'dialogue': example['Document'], 'summary': example['Summary']})\n",
    "        test_dataset = test_dataset.map(lambda example: {'id': example['id'], 'dialogue': example['Document'], 'summary': example['Summary']})\n",
    "\n",
    "        # Đưa các dataset vào DatasetDict\n",
    "        dataset_dict[\"train\"] = train_dataset\n",
    "        dataset_dict[\"validation\"] = val_dataset\n",
    "        dataset_dict[\"test\"] = test_dataset\n",
    "\n",
    "        return dataset_dict\n",
    "\n",
    "\n",
    "    def convert(self):\n",
    "        df = pd.read_csv(self.config.data_path)\n",
    "        dataset_dict = self.split_dataset(df)\n",
    "        dataset_samsum_pt = dataset_dict.map(self.convert_examples_to_features, batched = True)\n",
    "        dataset_samsum_pt.save_to_disk(os.path.join(self.config.root_dir,\"summarize_dataset\"))"
   ]
  },
  {
   "cell_type": "code",
   "execution_count": 8,
   "metadata": {},
   "outputs": [
    {
     "name": "stdout",
     "output_type": "stream",
     "text": [
      "[2024-05-11 08:12:34,094: INFO: common: yaml file: config\\config.yaml load successfully]\n",
      "[2024-05-11 08:12:34,102: INFO: common: yaml file: params.yaml load successfully]\n",
      "[2024-05-11 08:12:34,105: INFO: common: Created directory: artifacts]\n",
      "[2024-05-11 08:12:34,109: INFO: common: Created directory: artifacts/data_transformation]\n"
     ]
    },
    {
     "name": "stderr",
     "output_type": "stream",
     "text": [
      "c:\\Users\\NgLaam\\Desktop\\chatbot\\text-summarization\\.venv\\lib\\site-packages\\huggingface_hub\\file_download.py:1132: FutureWarning: `resume_download` is deprecated and will be removed in version 1.0.0. Downloads always resume when possible. If you want to force a new download, use `force_download=True`.\n",
      "  warnings.warn(\n",
      "Map: 100%|██████████| 8522/8522 [00:01<00:00, 6403.18 examples/s]\n",
      "Map: 100%|██████████| 1065/1065 [00:00<00:00, 5741.68 examples/s]\n",
      "Map: 100%|██████████| 1065/1065 [00:00<00:00, 5658.03 examples/s]\n",
      "Map:   0%|          | 0/8522 [00:00<?, ? examples/s]c:\\Users\\NgLaam\\Desktop\\chatbot\\text-summarization\\.venv\\lib\\site-packages\\transformers\\tokenization_utils_base.py:3921: UserWarning: `as_target_tokenizer` is deprecated and will be removed in v5 of Transformers. You can tokenize your labels by using the argument `text_target` of the regular `__call__` method (either in the same call as your input texts if you use the same keyword arguments, or in a separate call.\n",
      "  warnings.warn(\n",
      "Map: 100%|██████████| 8522/8522 [00:17<00:00, 494.04 examples/s]\n",
      "Map: 100%|██████████| 1065/1065 [00:04<00:00, 248.09 examples/s]\n",
      "Map: 100%|██████████| 1065/1065 [00:02<00:00, 442.77 examples/s]\n",
      "Saving the dataset (1/1 shards): 100%|██████████| 8522/8522 [00:00<00:00, 48064.66 examples/s]\n",
      "Saving the dataset (1/1 shards): 100%|██████████| 1065/1065 [00:00<00:00, 75667.14 examples/s]\n",
      "Saving the dataset (1/1 shards): 100%|██████████| 1065/1065 [00:00<00:00, 36049.53 examples/s]\n"
     ]
    }
   ],
   "source": [
    "try:\n",
    "    config = ConfigurationManager()\n",
    "    data_transformation_config = config.get_data_transformation_config()\n",
    "    data_transformation = DataTransformation(config=data_transformation_config)\n",
    "    data_transformation.convert()\n",
    "except Exception as e:\n",
    "    raise e"
   ]
  }
 ],
 "metadata": {
  "kernelspec": {
   "display_name": "text_summarizer",
   "language": "python",
   "name": "python3"
  },
  "language_info": {
   "codemirror_mode": {
    "name": "ipython",
    "version": 3
   },
   "file_extension": ".py",
   "mimetype": "text/x-python",
   "name": "python",
   "nbconvert_exporter": "python",
   "pygments_lexer": "ipython3",
   "version": "3.9.0"
  }
 },
 "nbformat": 4,
 "nbformat_minor": 2
}
