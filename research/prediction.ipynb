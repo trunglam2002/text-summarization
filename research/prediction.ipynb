{
 "cells": [
  {
   "cell_type": "code",
   "execution_count": null,
   "metadata": {},
   "outputs": [],
   "source": [
    "from transformers import AutoModelForSeq2SeqLM, AutoTokenizer\n",
    "\n",
    "model_ckpt = 'minhtoan/t5-small-wikilingua-vietnamese'\n",
    "\n",
    "tokenizer = AutoTokenizer.from_pretrained(model_ckpt)\n",
    "\n",
    "## Save tokenizer\n",
    "tokenizer.save_pretrained(\"artifacts/model_trainer/tokenizer\")"
   ]
  },
  {
   "cell_type": "code",
   "execution_count": 4,
   "metadata": {},
   "outputs": [
    {
     "data": {
      "text/plain": [
       "'c:\\\\Users\\\\NgLaam\\\\Desktop\\\\chatbot\\\\text-summarization'"
      ]
     },
     "execution_count": 4,
     "metadata": {},
     "output_type": "execute_result"
    }
   ],
   "source": [
    "import os\n",
    "\n",
    "os.chdir(\"../\")\n",
    "\n",
    "%pwd"
   ]
  },
  {
   "cell_type": "code",
   "execution_count": 13,
   "metadata": {},
   "outputs": [],
   "source": [
    "from transformers import AutoModelForSeq2SeqLM, AutoTokenizer\n",
    "from datasets import load_from_disk\n",
    "\n",
    "tokenizer = AutoTokenizer.from_pretrained(\"artifacts/model_trainer/tokenizer\")\n",
    "\n",
    "def truncate_sample(text):\n",
    "  input_ids = tokenizer.encode(text, add_special_tokens=True, truncation=False)\n",
    "  if len(input_ids) > 1024:\n",
    "      input_ids = input_ids[:1024]\n",
    "      # Đảo ngược lại từ token thành văn bản\n",
    "      return tokenizer.decode(input_ids, skip_special_tokens=True)\n",
    "  else:\n",
    "    return text"
   ]
  },
  {
   "cell_type": "code",
   "execution_count": 14,
   "metadata": {},
   "outputs": [
    {
     "name": "stderr",
     "output_type": "stream",
     "text": [
      "Token indices sequence length is longer than the specified maximum sequence length for this model (1715 > 1024). Running this sequence through the model will result in indexing errors\n"
     ]
    }
   ],
   "source": [
    "#Prediction\n",
    "\n",
    "dataset_samsum_pt = load_from_disk(\"artifacts/data_transformation/summarize_dataset\")\n",
    "sample = dataset_samsum_pt[\"test\"][3]\n",
    "\n",
    "gen_kwargs = {\"length_penalty\": 0.8, \"num_beams\":8, \"max_length\": 128}\n",
    "\n",
    "\n",
    "sample_text = truncate_sample(sample[\"dialogue\"])\n",
    "\n",
    "reference = sample[\"summary\"]\n"
   ]
  },
  {
   "cell_type": "code",
   "execution_count": 10,
   "metadata": {},
   "outputs": [],
   "source": [
    "from transformers import pipeline\n",
    "\n",
    "pipe = pipeline(\"summarization\", model=\"artifacts/model_trainer/vni-summary-model\",tokenizer=tokenizer)"
   ]
  },
  {
   "cell_type": "code",
   "execution_count": 15,
   "metadata": {},
   "outputs": [
    {
     "name": "stdout",
     "output_type": "stream",
     "text": [
      "Dialogue:\n",
      "Theo WebMD dẫn nguồn Viện hàn lâm Hoa Kỳ , ngoài bài làm ở nhà , trẻ ở tuổi đến trường chỉ nên dành không quá một hay hai giờ với màn hình mỗi ngày .Giáo sư Craig Anderson - giáo sư về sinh lý học Đại học bang Iowa - nói : \" Có rất nhiều tác động tiềm ẩn từ màn hình có hại đến trẻ sơ sinh tới thanh thiếu niên và cả người lớn còn trẻ \" .Giáo sư Craig nói khi trẻ xem khá nhiều chương trình , chuyển nhanh chóng từ cảnh này qua cảnh khác , sau này chúng có thể thấy bối rối khi cần tập trung trong lớp .Còn theo bác sĩ David Hill - chủ tịch Hội đồng về truyền thông và thông tin Viện hàn lâm Nhi khoa Hoa Kỳ , trẻ dành quá nhiều thời gian trước màn hình có thể mắc những bệnh chứng khác nữa , như kém ngủ hay quá tăng cân .10 mẹo giúp trẻ em rời mắt khỏi các thiết bị , màn hình có ánh sáng xanh .1 Đừng cho các con bạn sở hữu máy tính bảng hay điện thoại thông minh .2 Hạn chế để máy vi tính và tivi ở một số chỗ thuận mắt trẻ , trẻ dễ tiện tay dùng .Ví dụ khi bạn để màn hình ở bếp , các con bạn dễ để mắt lên xem các chương trình khi đang ăn .3 Tính thêm thời gian không công nghệ vào lịch gia đình .BS Hill nói ở mọi độ tuổi , trẻ phải biết có những thời gian chuyên biệt khi nào không được sử dụng , phải tắt các màn hình như trong bữa ăn và trước khi lên giường .Thậm chí tốt hơn là hãy dành thời gian mỗi tuần cho gia đình cùng làm điều gì đó giải trí - không có thiết bị nào được phép \" tham gia \" .4 Theo dõi bạn thường dùng thiết bị riêng của bạn trong bao lâu .Nếu bạn cứ luôn vùi mặt vào điện thoại , các con bạn ắt hẳn không thấy lý do mà chúng phải thoát ra khỏi màn hình chúng đang dùng .Thêm nữa , những thiết bị đó tác động đến thời gian bạn dành cho các con mình .5 Đề ra một số quy tắc .Khi các quy tắc đã rõ và nhất quán , bạn có thể tránh những tranh cãi hằng ngày khi bạn nói với các con mình đã đến lúc ngắt truyền hình , máy vi tính hay điện thoại .6 Hãy sẵn sàng giải thích với con về việc ngắt màn hình .Sau khi các con bạn đã xem truyền hình hàng giờ ở nhà người bạn , hoặc các bạn chúng có thời gian xem màn hình nhiều hơn , chúng có thể ngạc nhiên vì sao các quy tắc của bạn lại khác nhau .Khi đó bạn có cơ hội nói chuyện với các con về các giá trị của gia đình bạn là gì .7 Hãy giúp các con bạn kiếm được các cách giải trí khác .8 Hãy dùng công nghệ để giải quyết .Sử dụng các chương trình mà bạn có thể đặt để ngắt máy vi tính , máy tính bảng và điện thoại thông minh sau một lượng thời gian đã định .9 Điều chỉnh hạn chế thời gian với màn hình khi con bạn đã lớn .Với học sinh trung học , cha mẹ nên hỏi ý kiến con , cùng con ra quyết định về việc hạn chế dùng màn hình .10 Hãy quyên tặng hay tái chế các đồ điện tử cũ .\n",
      "\n",
      "Reference Summary:\n",
      "Hiện nay nhiều trẻ em hay chúi mũi vào màn hình điện thoại , máy tính bảng , tivi , ảnh hưởng rất lớn đến sức khoẻ , nhất là mắt .\n",
      "\n",
      "Model Summary:\n",
      "ly mean here happen here G station here Thatamb education got Global place plans 7 here G station here Thatamb education got Global place plans 7 here G station here Thatamb education got Global place plans 7 here G station here Thatamb education got Global place plans 7 here G station here Thatamb education got Global place plans 7 here G station here Thatamb education got Global place plans 7 here G station here Thatamb education got Global place plans 7 here G station here Thatamb education got Global place plans 7 here G station here Thatamb education got Global place plans 7 here G station here Thatamb education got Global place plans 7 here G station\n"
     ]
    }
   ],
   "source": [
    "##\n",
    "print(\"Dialogue:\")\n",
    "print(sample[\"dialogue\"])\n",
    "\n",
    "\n",
    "print(\"\\nReference Summary:\")\n",
    "print(reference)\n",
    "\n",
    "\n",
    "print(\"\\nModel Summary:\")\n",
    "print(pipe(sample_text, **gen_kwargs)[0][\"summary_text\"])"
   ]
  }
 ],
 "metadata": {
  "kernelspec": {
   "display_name": ".venv",
   "language": "python",
   "name": "python3"
  },
  "language_info": {
   "codemirror_mode": {
    "name": "ipython",
    "version": 3
   },
   "file_extension": ".py",
   "mimetype": "text/x-python",
   "name": "python",
   "nbconvert_exporter": "python",
   "pygments_lexer": "ipython3",
   "version": "3.9.0"
  }
 },
 "nbformat": 4,
 "nbformat_minor": 2
}
